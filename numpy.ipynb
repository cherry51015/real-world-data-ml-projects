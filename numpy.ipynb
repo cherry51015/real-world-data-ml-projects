{
 "cells": [
  {
   "cell_type": "code",
   "execution_count": 3,
   "id": "d0aa344a-05da-4396-9690-8a5f24fbad1f",
   "metadata": {},
   "outputs": [
    {
     "data": {
      "text/plain": [
       "array([67, 54,  5])"
      ]
     },
     "execution_count": 3,
     "metadata": {},
     "output_type": "execute_result"
    }
   ],
   "source": [
    "import numpy as np\n",
    "a=np.array([[45,67,68,54,2,5,7],[8,9,10,71,62,53,44]])\n",
    "a[0,1:6:2]"
   ]
  },
  {
   "cell_type": "code",
   "execution_count": 11,
   "id": "3d9fda58-9d1b-47d7-8693-1d0d5839d123",
   "metadata": {},
   "outputs": [
    {
     "name": "stdout",
     "output_type": "stream",
     "text": [
      "[[45 67 68  3  2  5  7]\n",
      " [ 8  9 10  4 62 53 44]]\n"
     ]
    }
   ],
   "source": [
    "a[:,3]=[3,4]\n",
    "print(a)"
   ]
  },
  {
   "cell_type": "code",
   "execution_count": 15,
   "id": "f1f375fa-336d-4603-9c0c-669807af4183",
   "metadata": {},
   "outputs": [
    {
     "name": "stdout",
     "output_type": "stream",
     "text": [
      "[[[45 67]\n",
      "  [68 54]]\n",
      "\n",
      " [[ 8  9]\n",
      "  [10 71]]]\n"
     ]
    }
   ],
   "source": [
    "b=np.array([[[45,67],[68,54]],[[8,9],[10,71]]])\n",
    "print(b)"
   ]
  },
  {
   "cell_type": "markdown",
   "id": "932c9809-0854-43c2-84a9-b56a448be59e",
   "metadata": {},
   "source": [
    "######Advanced numpy indexing\n"
   ]
  },
  {
   "cell_type": "code",
   "execution_count": 7,
   "id": "a0b0b7e5-5b87-4a20-b5d4-b99e9c68b7c2",
   "metadata": {},
   "outputs": [
    {
     "name": "stdout",
     "output_type": "stream",
     "text": [
      "[[14 24 56  3  2]\n",
      " [34 66 22 88  7]\n",
      " [23  1  6  9 21]\n",
      " [34 98 20 19  4]\n",
      " [20 74 53 26 72]]\n"
     ]
    }
   ],
   "source": [
    "r1=np.array([14,24,56,3,2])\n",
    "r2=np.array([34,66,22,88,7])\n",
    "r3=np.array([23,1,6,9,21])\n",
    "r4=np.array([34,98,20,19,4])\n",
    "r5=np.array([20,74,53,26,72])\n",
    "arr=np.array([r1,r2,r3,r4,r5])\n",
    "print(arr)"
   ]
  },
  {
   "cell_type": "markdown",
   "id": "7f3cbc83-5567-4272-bfb8-c547274496c1",
   "metadata": {},
   "source": [
    "arr[:,2:4]"
   ]
  },
  {
   "cell_type": "code",
   "execution_count": 17,
   "id": "cb82baa3-79fd-4cd7-adbc-04b958a2ef7f",
   "metadata": {},
   "outputs": [
    {
     "data": {
      "text/plain": [
       "array([[ 3, 56],\n",
       "       [88, 22],\n",
       "       [ 9,  6],\n",
       "       [19, 20],\n",
       "       [26, 53]])"
      ]
     },
     "execution_count": 17,
     "metadata": {},
     "output_type": "execute_result"
    }
   ],
   "source": [
    "arr[:,-2:-4:-1]"
   ]
  },
  {
   "cell_type": "code",
   "execution_count": 25,
   "id": "5db725c0-4851-4d4f-a4c7-96313405b450",
   "metadata": {},
   "outputs": [
    {
     "name": "stdout",
     "output_type": "stream",
     "text": [
      "[[False False False  True  True]\n",
      " [False False False False False]\n",
      " [False  True False False False]\n",
      " [False False False False  True]\n",
      " [False False False False False]]\n"
     ]
    }
   ],
   "source": [
    "greater_than_five=~(arr>5)\n",
    "print(greater_than_five)"
   ]
  },
  {
   "cell_type": "code",
   "execution_count": 27,
   "id": "a11b90cc-841f-4de7-a7b4-ea865d50bc9e",
   "metadata": {},
   "outputs": [
    {
     "name": "stdout",
     "output_type": "stream",
     "text": [
      "[3 2 1 4]\n"
     ]
    }
   ],
   "source": [
    "print(arr[greater_than_five])"
   ]
  },
  {
   "cell_type": "code",
   "execution_count": 29,
   "id": "2dc37aa9-7cf3-43ed-afdb-b958b93bf767",
   "metadata": {},
   "outputs": [],
   "source": [
    "#this returns a 1d array, what if we dont want 1d array but the original array size folllowing the given condn\n"
   ]
  },
  {
   "cell_type": "markdown",
   "id": "c0cc5f99-8647-43fe-a181-2bf219dd2d19",
   "metadata": {},
   "source": [
    "#####where method\n"
   ]
  },
  {
   "cell_type": "code",
   "execution_count": 34,
   "id": "0fc07fed-a328-4da7-ae6f-159fffc3cfe4",
   "metadata": {},
   "outputs": [
    {
     "name": "stdout",
     "output_type": "stream",
     "text": [
      "[[0 0 0 3 2]\n",
      " [0 0 0 0 0]\n",
      " [0 1 0 0 0]\n",
      " [0 0 0 0 4]\n",
      " [0 0 0 0 0]]\n"
     ]
    }
   ],
   "source": [
    "drop_under_five_arr=np.where(arr<5,arr,0)\n",
    "print(drop_under_five_arr)"
   ]
  },
  {
   "cell_type": "code",
   "execution_count": 44,
   "id": "b1103cae-28f3-4f6c-842b-61657f2487a5",
   "metadata": {},
   "outputs": [
    {
     "name": "stdout",
     "output_type": "stream",
     "text": [
      "[[ 0  5 10 15 20]\n",
      " [25 30 35 40 45]\n",
      " [50 55 60 65 70]\n",
      " [75 80 85 90 95]]\n"
     ]
    }
   ],
   "source": [
    "ab=np.arange(0,100,5)\n",
    "\n",
    "ab=ab.reshape(4,5)\n",
    "print(ab)"
   ]
  },
  {
   "cell_type": "code",
   "execution_count": 57,
   "id": "6f35050a-0c05-4374-b616-caf95cc77233",
   "metadata": {},
   "outputs": [
    {
     "name": "stdout",
     "output_type": "stream",
     "text": [
      "[[55 60 65]\n",
      " [70 75 80]\n",
      " [85 90 95]]\n"
     ]
    }
   ],
   "source": [
    " bc=ab[ab>50]\n",
    "bc=bc.reshape(3,3)\n",
    "print(bc)"
   ]
  },
  {
   "cell_type": "code",
   "execution_count": null,
   "id": "7ce38eb1-3914-4988-a0e2-66d1647b676c",
   "metadata": {},
   "outputs": [],
   "source": []
  }
 ],
 "metadata": {
  "kernelspec": {
   "display_name": "Python 3 (ipykernel)",
   "language": "python",
   "name": "python3"
  },
  "language_info": {
   "codemirror_mode": {
    "name": "ipython",
    "version": 3
   },
   "file_extension": ".py",
   "mimetype": "text/x-python",
   "name": "python",
   "nbconvert_exporter": "python",
   "pygments_lexer": "ipython3",
   "version": "3.11.5"
  }
 },
 "nbformat": 4,
 "nbformat_minor": 5
}
